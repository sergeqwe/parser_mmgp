{
 "metadata": {
  "name": "test"
 },
 "nbformat": 3,
 "nbformat_minor": 0,
 "worksheets": [
  {
   "cells": [
    {
     "cell_type": "code",
     "collapsed": false,
     "input": [
      "%pylab inline"
     ],
     "language": "python",
     "metadata": {},
     "outputs": [
      {
       "output_type": "stream",
       "stream": "stdout",
       "text": [
        "\n",
        "Welcome to pylab, a matplotlib-based Python environment [backend: module://IPython.zmq.pylab.backend_inline].\n",
        "For more information, type 'help(pylab)'.\n"
       ]
      }
     ],
     "prompt_number": 165
    },
    {
     "cell_type": "code",
     "collapsed": false,
     "input": [
      "import pandas as pd\n",
      "import matplotlib.pyplot as plt\n",
      "import datetime"
     ],
     "language": "python",
     "metadata": {},
     "outputs": [],
     "prompt_number": 166
    },
    {
     "cell_type": "code",
     "collapsed": false,
     "input": [
      "#Location = '/home/qwe/\u0414\u043e\u043a\u0443\u043c\u0435\u043d\u0442\u044b/python/result.txt'\n",
      "Location = '/home/lepinskiy.s.v/python/parser_mmgp/result.txt'\n",
      "df = pd.read_csv(Location, names=['Names', 'Author', 'Start', 'End', 'Answer', 'Review'], sep=';;')"
     ],
     "language": "python",
     "metadata": {},
     "outputs": [],
     "prompt_number": 247
    },
    {
     "cell_type": "code",
     "collapsed": false,
     "input": [
      "df[0:3]"
     ],
     "language": "python",
     "metadata": {},
     "outputs": [
      {
       "html": [
        "<div style=\"max-height:1000px;max-width:1500px;overflow:auto;\">\n",
        "<table border=\"1\">\n",
        "  <thead>\n",
        "    <tr>\n",
        "      <th></th>\n",
        "      <th>Names</th>\n",
        "      <th>Author</th>\n",
        "      <th>Start</th>\n",
        "      <th>End</th>\n",
        "      <th>Answer</th>\n",
        "      <th>Review</th>\n",
        "    </tr>\n",
        "  </thead>\n",
        "  <tbody>\n",
        "    <tr>\n",
        "      <td><strong>0</strong></td>\n",
        "      <td>                randomily.com - Randomily</td>\n",
        "      <td>         DaTre</td>\n",
        "      <td> 30.11.2014</td>\n",
        "      <td> 24.12.2014</td>\n",
        "      <td> 450</td>\n",
        "      <td> 19737</td>\n",
        "    </tr>\n",
        "    <tr>\n",
        "      <td><strong>1</strong></td>\n",
        "      <td>              Medium-pro - medium-pro.com</td>\n",
        "      <td> Angel-monitor</td>\n",
        "      <td> 29.11.2014</td>\n",
        "      <td> 24.12.2014</td>\n",
        "      <td> 142</td>\n",
        "      <td>  6494</td>\n",
        "    </tr>\n",
        "    <tr>\n",
        "      <td><strong>2</strong></td>\n",
        "      <td> Top Forex Investment Company - Topfx.biz</td>\n",
        "      <td>       Honestt</td>\n",
        "      <td> 09.12.2014</td>\n",
        "      <td> 24.12.2014</td>\n",
        "      <td> 402</td>\n",
        "      <td> 12976</td>\n",
        "    </tr>\n",
        "  </tbody>\n",
        "</table>\n",
        "</div>"
       ],
       "output_type": "pyout",
       "prompt_number": 248,
       "text": [
        "                                      Names         Author       Start         End  Answer  Review\n",
        "0                 randomily.com - Randomily          DaTre  30.11.2014  24.12.2014     450   19737\n",
        "1               Medium-pro - medium-pro.com  Angel-monitor  29.11.2014  24.12.2014     142    6494\n",
        "2  Top Forex Investment Company - Topfx.biz        Honestt  09.12.2014  24.12.2014     402   12976"
       ]
      }
     ],
     "prompt_number": 248
    },
    {
     "cell_type": "code",
     "collapsed": false,
     "input": [
      "# \u0414\u043e\u0431\u0430\u0432\u043b\u044f\u0435\u043c \u0447\u0435\u0440\u0435\u0437 pandas \u043a\u043e\u043b\u043e\u043d\u043a\u0443 Delta\n",
      "df['Delta'] = 0"
     ],
     "language": "python",
     "metadata": {},
     "outputs": [],
     "prompt_number": 249
    },
    {
     "cell_type": "code",
     "collapsed": false,
     "input": [
      "df[0:3]"
     ],
     "language": "python",
     "metadata": {},
     "outputs": [
      {
       "html": [
        "<div style=\"max-height:1000px;max-width:1500px;overflow:auto;\">\n",
        "<table border=\"1\">\n",
        "  <thead>\n",
        "    <tr>\n",
        "      <th></th>\n",
        "      <th>Names</th>\n",
        "      <th>Author</th>\n",
        "      <th>Start</th>\n",
        "      <th>End</th>\n",
        "      <th>Answer</th>\n",
        "      <th>Review</th>\n",
        "      <th>Delta</th>\n",
        "    </tr>\n",
        "  </thead>\n",
        "  <tbody>\n",
        "    <tr>\n",
        "      <td><strong>0</strong></td>\n",
        "      <td>                randomily.com - Randomily</td>\n",
        "      <td>         DaTre</td>\n",
        "      <td> 30.11.2014</td>\n",
        "      <td> 24.12.2014</td>\n",
        "      <td> 450</td>\n",
        "      <td> 19737</td>\n",
        "      <td> 0</td>\n",
        "    </tr>\n",
        "    <tr>\n",
        "      <td><strong>1</strong></td>\n",
        "      <td>              Medium-pro - medium-pro.com</td>\n",
        "      <td> Angel-monitor</td>\n",
        "      <td> 29.11.2014</td>\n",
        "      <td> 24.12.2014</td>\n",
        "      <td> 142</td>\n",
        "      <td>  6494</td>\n",
        "      <td> 0</td>\n",
        "    </tr>\n",
        "    <tr>\n",
        "      <td><strong>2</strong></td>\n",
        "      <td> Top Forex Investment Company - Topfx.biz</td>\n",
        "      <td>       Honestt</td>\n",
        "      <td> 09.12.2014</td>\n",
        "      <td> 24.12.2014</td>\n",
        "      <td> 402</td>\n",
        "      <td> 12976</td>\n",
        "      <td> 0</td>\n",
        "    </tr>\n",
        "  </tbody>\n",
        "</table>\n",
        "</div>"
       ],
       "output_type": "pyout",
       "prompt_number": 250,
       "text": [
        "                                      Names         Author       Start         End  Answer  Review  Delta\n",
        "0                 randomily.com - Randomily          DaTre  30.11.2014  24.12.2014     450   19737      0\n",
        "1               Medium-pro - medium-pro.com  Angel-monitor  29.11.2014  24.12.2014     142    6494      0\n",
        "2  Top Forex Investment Company - Topfx.biz        Honestt  09.12.2014  24.12.2014     402   12976      0"
       ]
      }
     ],
     "prompt_number": 250
    },
    {
     "cell_type": "code",
     "collapsed": false,
     "input": [
      "# \u041d\u0430\u0445\u043e\u0434\u0438\u043c \u0440\u0430\u0437\u043d\u0438\u0446\u0443 \u043c\u0435\u0436\u0434\u0443 \u0434\u0430\u0442\u043e\u0439 \u0437\u0430\u043a\u0440\u044b\u0442\u0438\u044f \u0445\u0430\u0439\u043f\u044b \u0438 \u0434\u0430\u0442\u043e\u0439 \u043e\u0442\u043a\u0440\u044b\u0442\u0438\u044f (\u0441\u043a\u043e\u043b\u044c\u043a\u043e \u043f\u0440\u043e\u0441\u0443\u0449\u0435\u0441\u0442\u0432\u043e\u0432\u0430\u043b \u0445\u0430\u0439\u043f)\n",
      "for i in range(17640):\n",
      "\tstart = df.Start[i]\n",
      "\tstart = datetime.datetime.strptime(start, '%d.%m.%Y')\n",
      "\n",
      "\tend = df.End[i]\n",
      "\tend = datetime.datetime.strptime(end, '%d.%m.%Y')\n",
      "\n",
      "\tdelta = end-start\n",
      "\tdelta = delta.days\n",
      "\t\n",
      "\tdf['Delta'][i] = delta"
     ],
     "language": "python",
     "metadata": {},
     "outputs": [],
     "prompt_number": 251
    },
    {
     "cell_type": "code",
     "collapsed": false,
     "input": [
      "df[0:3]"
     ],
     "language": "python",
     "metadata": {},
     "outputs": [
      {
       "html": [
        "<div style=\"max-height:1000px;max-width:1500px;overflow:auto;\">\n",
        "<table border=\"1\">\n",
        "  <thead>\n",
        "    <tr>\n",
        "      <th></th>\n",
        "      <th>Names</th>\n",
        "      <th>Author</th>\n",
        "      <th>Start</th>\n",
        "      <th>End</th>\n",
        "      <th>Answer</th>\n",
        "      <th>Review</th>\n",
        "      <th>Delta</th>\n",
        "    </tr>\n",
        "  </thead>\n",
        "  <tbody>\n",
        "    <tr>\n",
        "      <td><strong>0</strong></td>\n",
        "      <td>                randomily.com - Randomily</td>\n",
        "      <td>         DaTre</td>\n",
        "      <td> 30.11.2014</td>\n",
        "      <td> 24.12.2014</td>\n",
        "      <td> 450</td>\n",
        "      <td> 19737</td>\n",
        "      <td> 24</td>\n",
        "    </tr>\n",
        "    <tr>\n",
        "      <td><strong>1</strong></td>\n",
        "      <td>              Medium-pro - medium-pro.com</td>\n",
        "      <td> Angel-monitor</td>\n",
        "      <td> 29.11.2014</td>\n",
        "      <td> 24.12.2014</td>\n",
        "      <td> 142</td>\n",
        "      <td>  6494</td>\n",
        "      <td> 25</td>\n",
        "    </tr>\n",
        "    <tr>\n",
        "      <td><strong>2</strong></td>\n",
        "      <td> Top Forex Investment Company - Topfx.biz</td>\n",
        "      <td>       Honestt</td>\n",
        "      <td> 09.12.2014</td>\n",
        "      <td> 24.12.2014</td>\n",
        "      <td> 402</td>\n",
        "      <td> 12976</td>\n",
        "      <td> 15</td>\n",
        "    </tr>\n",
        "  </tbody>\n",
        "</table>\n",
        "</div>"
       ],
       "output_type": "pyout",
       "prompt_number": 252,
       "text": [
        "                                      Names         Author       Start         End  Answer  Review  Delta\n",
        "0                 randomily.com - Randomily          DaTre  30.11.2014  24.12.2014     450   19737     24\n",
        "1               Medium-pro - medium-pro.com  Angel-monitor  29.11.2014  24.12.2014     142    6494     25\n",
        "2  Top Forex Investment Company - Topfx.biz        Honestt  09.12.2014  24.12.2014     402   12976     15"
       ]
      }
     ],
     "prompt_number": 252
    },
    {
     "cell_type": "code",
     "collapsed": false,
     "input": [
      "# \u0421\u043e\u0437\u0434\u0430\u0435\u043c \u043d\u043e\u0432\u0443\u044e \u0442\u0430\u0431\u043b\u0438\u0446\u0443 \u0438\u0437 \u043a\u043e\u043b\u043e\u043d\u043a\u0438 Delta, \u0447\u0442\u043e\u0431\u044b \u043f\u043e\u0434\u0441\u0447\u0438\u0442\u0430\u0442\u044c \u043a\u043e\u043b-\u0432\u043e\n",
      "df1 = pd.DataFrame(data = df['Delta'], columns=['Delta'])"
     ],
     "language": "python",
     "metadata": {},
     "outputs": [],
     "prompt_number": 173
    },
    {
     "cell_type": "code",
     "collapsed": false,
     "input": [
      "df1.head()"
     ],
     "language": "python",
     "metadata": {},
     "outputs": [
      {
       "html": [
        "<div style=\"max-height:1000px;max-width:1500px;overflow:auto;\">\n",
        "<table border=\"1\">\n",
        "  <thead>\n",
        "    <tr>\n",
        "      <th></th>\n",
        "      <th>Delta</th>\n",
        "    </tr>\n",
        "  </thead>\n",
        "  <tbody>\n",
        "    <tr>\n",
        "      <td><strong>0</strong></td>\n",
        "      <td>  24</td>\n",
        "    </tr>\n",
        "    <tr>\n",
        "      <td><strong>1</strong></td>\n",
        "      <td>  25</td>\n",
        "    </tr>\n",
        "    <tr>\n",
        "      <td><strong>2</strong></td>\n",
        "      <td>  15</td>\n",
        "    </tr>\n",
        "    <tr>\n",
        "      <td><strong>3</strong></td>\n",
        "      <td>  12</td>\n",
        "    </tr>\n",
        "    <tr>\n",
        "      <td><strong>4</strong></td>\n",
        "      <td> 249</td>\n",
        "    </tr>\n",
        "  </tbody>\n",
        "</table>\n",
        "</div>"
       ],
       "output_type": "pyout",
       "prompt_number": 174,
       "text": [
        "   Delta\n",
        "0     24\n",
        "1     25\n",
        "2     15\n",
        "3     12\n",
        "4    249"
       ]
      }
     ],
     "prompt_number": 174
    },
    {
     "cell_type": "code",
     "collapsed": false,
     "input": [
      "# \u0414\u043e\u0431\u0430\u0432\u043b\u044f\u0435\u043c \u043f\u043e\u043b\u0435 count. \u041f\u043e \u043d\u0435\u043c\u0443 \u0431\u0443\u0434\u0435\u043c \u0441\u0447\u0438\u0442\u0430\u0442\u044c \u043a\u043e\u043b-\u0432\u043e \u043f\u043e\u0432\u0442\u043e\u0440\u044f\u044e\u0449\u0438\u0445\u0441\u044f \u0437\u043d\u0430\u0447\u0435\u043d\u0438\u0439\n",
      "df1['Count'] = 1"
     ],
     "language": "python",
     "metadata": {},
     "outputs": [],
     "prompt_number": 175
    },
    {
     "cell_type": "code",
     "collapsed": false,
     "input": [
      "df1[0:3]"
     ],
     "language": "python",
     "metadata": {},
     "outputs": [
      {
       "html": [
        "<div style=\"max-height:1000px;max-width:1500px;overflow:auto;\">\n",
        "<table border=\"1\">\n",
        "  <thead>\n",
        "    <tr>\n",
        "      <th></th>\n",
        "      <th>Delta</th>\n",
        "      <th>Count</th>\n",
        "    </tr>\n",
        "  </thead>\n",
        "  <tbody>\n",
        "    <tr>\n",
        "      <td><strong>0</strong></td>\n",
        "      <td> 24</td>\n",
        "      <td> 1</td>\n",
        "    </tr>\n",
        "    <tr>\n",
        "      <td><strong>1</strong></td>\n",
        "      <td> 25</td>\n",
        "      <td> 1</td>\n",
        "    </tr>\n",
        "    <tr>\n",
        "      <td><strong>2</strong></td>\n",
        "      <td> 15</td>\n",
        "      <td> 1</td>\n",
        "    </tr>\n",
        "  </tbody>\n",
        "</table>\n",
        "</div>"
       ],
       "output_type": "pyout",
       "prompt_number": 176,
       "text": [
        "   Delta  Count\n",
        "0     24      1\n",
        "1     25      1\n",
        "2     15      1"
       ]
      }
     ],
     "prompt_number": 176
    },
    {
     "cell_type": "code",
     "collapsed": false,
     "input": [
      "# \u0412\u044b\u043f\u043e\u043b\u043d\u044f\u0435\u043c \u0433\u0440\u0443\u043f\u043f\u0438\u0440\u043e\u0432\u043a\u0443\n",
      "name = df1.groupby('Delta')\n",
      "\n",
      "# \u0412\u044b\u0441\u0447\u0438\u0442\u044b\u0432\u0430\u0435\u043c \u0441\u0443\u043c\u043c\u0443 \u0441\u0433\u0440\u0443\u043f\u043f\u0438\u0440\u043e\u0432\u0430\u043d\u043d\u044b\u0445 \u043e\u0431\u044a\u0435\u043a\u0442\u043e\u0432\n",
      "df1 = name.sum()"
     ],
     "language": "python",
     "metadata": {},
     "outputs": [],
     "prompt_number": 177
    },
    {
     "cell_type": "code",
     "collapsed": false,
     "input": [
      "df1[0:3]"
     ],
     "language": "python",
     "metadata": {},
     "outputs": [
      {
       "html": [
        "<div style=\"max-height:1000px;max-width:1500px;overflow:auto;\">\n",
        "<table border=\"1\">\n",
        "  <thead>\n",
        "    <tr>\n",
        "      <th></th>\n",
        "      <th>Count</th>\n",
        "    </tr>\n",
        "    <tr>\n",
        "      <th>Delta</th>\n",
        "      <th></th>\n",
        "    </tr>\n",
        "  </thead>\n",
        "  <tbody>\n",
        "    <tr>\n",
        "      <td><strong>0</strong></td>\n",
        "      <td> 281</td>\n",
        "    </tr>\n",
        "    <tr>\n",
        "      <td><strong>1</strong></td>\n",
        "      <td> 251</td>\n",
        "    </tr>\n",
        "    <tr>\n",
        "      <td><strong>2</strong></td>\n",
        "      <td> 374</td>\n",
        "    </tr>\n",
        "  </tbody>\n",
        "</table>\n",
        "</div>"
       ],
       "output_type": "pyout",
       "prompt_number": 178,
       "text": [
        "       Count\n",
        "Delta       \n",
        "0        281\n",
        "1        251\n",
        "2        374"
       ]
      }
     ],
     "prompt_number": 178
    },
    {
     "cell_type": "code",
     "collapsed": false,
     "input": [
      "# \u0421\u0442\u0440\u043e\u0438\u043c \u0433\u0440\u0430\u0444\u0438\u043a \u0441\u043a\u043e\u043b\u044c\u043a\u043e \u0432 \u0441\u0440\u0435\u0434\u043d\u0435\u043c \u0434\u043d\u0435\u0439 \u0436\u0438\u0432\u0443\u0442 \u0445\u0430\u0439\u043f\u044b\n",
      "df1[:365].plot(kind='bar', figsize=(70, 10))\n",
      "grid(True)\n",
      "title(u'\u0421\u0440\u043e\u043a \u0436\u0438\u0437\u043d\u0438 \u0445\u0430\u0439\u043f\u043e\u0432')\n",
      "ylabel(u'\u041a\u043e\u043b-\u0432\u043e \u0441\u043e\u0441\u043a\u0430\u043c\u0438\u0432\u0448\u0438\u0445\u0441\u044f \u0445\u0430\u0439\u043f\u043e\u0432')\n",
      "xlabel(u'\u041a\u043e\u043b-\u0432\u043e \u0434\u043d\u0435\u0439')\n",
      "#df[100:200].plot(kind='bar', figsize=(20, 5))"
     ],
     "language": "python",
     "metadata": {},
     "outputs": [
      {
       "output_type": "pyout",
       "prompt_number": 179,
       "text": [
        "<matplotlib.text.Text at 0xa1985cc>"
       ]
      },
      {
       "output_type": "display_data",
       "png": "[encoded data removed]"
      }
     ],
     "prompt_number": 179
    },
    {
     "cell_type": "code",
     "collapsed": false,
     "input": [
      "# \u0414\u043e\u0431\u0430\u0432\u043b\u044f\u0435\u043c \u043a\u043e\u043b\u043e\u043d\u043a\u0443 \u0441\u043a\u043e\u043b\u044c\u043a\u043e \u0445\u0430\u0439\u043f\u043e\u0432 \u043e\u0441\u0442\u0430\u043b\u043e\u0441\u044c. \u041f\u043e \u044d\u0442\u0438\u043c \u0434\u0430\u043d\u043d\u043c \u0431\u0443\u0434\u0435\u043c \u0441\u043c\u043e\u0442\u0440\u0435\u0442\u044c \u0441\u043a\u043e\u043b\u044c\u043a\u043e \u0437\u0430 \u043f\u0435\u0440\u0438\u043e\u0434 \u0432\u0440\u0435\u043c\u0435\u043d\u0438 \u0445\u0430\u0439\u043f\u043e\u0432 \u0441\u043e\u0441\u043a\u0430\u043c\u0438\u043b\u043e\u0441\u044c.\n",
      "df1['Residue'] = 0"
     ],
     "language": "python",
     "metadata": {},
     "outputs": [],
     "prompt_number": 180
    },
    {
     "cell_type": "code",
     "collapsed": false,
     "input": [
      "# \u0414\u043e\u0431\u0430\u0432\u043b\u044f\u0435\u043c \u0432 \u0442\u0430\u0431\u043b\u0438\u0446\u0443 \u043a\u043e\u043b\u043e\u043d\u043a\u0443 \u0438\u043d\u0434\u0435\u043a\u0441\u043e\u0432\n",
      "df1= df1.reset_index()"
     ],
     "language": "python",
     "metadata": {},
     "outputs": [],
     "prompt_number": 181
    },
    {
     "cell_type": "code",
     "collapsed": false,
     "input": [
      "df1[:4]"
     ],
     "language": "python",
     "metadata": {},
     "outputs": [
      {
       "html": [
        "<div style=\"max-height:1000px;max-width:1500px;overflow:auto;\">\n",
        "<table border=\"1\">\n",
        "  <thead>\n",
        "    <tr>\n",
        "      <th></th>\n",
        "      <th>Delta</th>\n",
        "      <th>Count</th>\n",
        "      <th>Residue</th>\n",
        "    </tr>\n",
        "  </thead>\n",
        "  <tbody>\n",
        "    <tr>\n",
        "      <td><strong>0</strong></td>\n",
        "      <td> 0</td>\n",
        "      <td> 281</td>\n",
        "      <td> 0</td>\n",
        "    </tr>\n",
        "    <tr>\n",
        "      <td><strong>1</strong></td>\n",
        "      <td> 1</td>\n",
        "      <td> 251</td>\n",
        "      <td> 0</td>\n",
        "    </tr>\n",
        "    <tr>\n",
        "      <td><strong>2</strong></td>\n",
        "      <td> 2</td>\n",
        "      <td> 374</td>\n",
        "      <td> 0</td>\n",
        "    </tr>\n",
        "    <tr>\n",
        "      <td><strong>3</strong></td>\n",
        "      <td> 3</td>\n",
        "      <td> 536</td>\n",
        "      <td> 0</td>\n",
        "    </tr>\n",
        "  </tbody>\n",
        "</table>\n",
        "</div>"
       ],
       "output_type": "pyout",
       "prompt_number": 182,
       "text": [
        "   Delta  Count  Residue\n",
        "0      0    281        0\n",
        "1      1    251        0\n",
        "2      2    374        0\n",
        "3      3    536        0"
       ]
      }
     ],
     "prompt_number": 182
    },
    {
     "cell_type": "code",
     "collapsed": false,
     "input": [
      "print '\u0421\u0442\u043e\u043b\u0431\u0446\u043e\u0432 \u0432 \u0434\u0438\u0430\u0433\u0440\u0430\u043c\u043c\u0435: ', len(df1)"
     ],
     "language": "python",
     "metadata": {},
     "outputs": [
      {
       "output_type": "stream",
       "stream": "stdout",
       "text": [
        "\u0421\u0442\u043e\u043b\u0431\u0446\u043e\u0432 \u0432 \u0434\u0438\u0430\u0433\u0440\u0430\u043c\u043c\u0435:  585\n"
       ]
      }
     ],
     "prompt_number": 183
    },
    {
     "cell_type": "code",
     "collapsed": false,
     "input": [
      "# \u041f\u043e\u0434\u0441\u0447\u0438\u0442\u044b\u0432\u0430\u0435\u043c \u043e\u0441\u0442\u0430\u0442\u043e\u043a \u0445\u0430\u0439\u043f\u043e\u0432 \u043d\u0430 \u0442\u0435\u043a\u0443\u0449\u0438\u0439 \u0434\u0435\u043d\u044c \u0438 \u0437\u0430\u043f\u0438\u0441\u044b\u0432\u0430\u0435\u043c \u0438\u0445 \u0432 \u043a\u043e\u043b\u043e\u043a\u0443 Residue\n",
      "s = 17640\n",
      "for i in range(0,585):\n",
      "    s = s-df1['Count'][i]\n",
      "    df1['Residue'][i] = s\n",
      "    "
     ],
     "language": "python",
     "metadata": {},
     "outputs": [],
     "prompt_number": 184
    },
    {
     "cell_type": "code",
     "collapsed": false,
     "input": [
      "df1[:4]"
     ],
     "language": "python",
     "metadata": {},
     "outputs": [
      {
       "html": [
        "<div style=\"max-height:1000px;max-width:1500px;overflow:auto;\">\n",
        "<table border=\"1\">\n",
        "  <thead>\n",
        "    <tr>\n",
        "      <th></th>\n",
        "      <th>Delta</th>\n",
        "      <th>Count</th>\n",
        "      <th>Residue</th>\n",
        "    </tr>\n",
        "  </thead>\n",
        "  <tbody>\n",
        "    <tr>\n",
        "      <td><strong>0</strong></td>\n",
        "      <td> 0</td>\n",
        "      <td> 281</td>\n",
        "      <td> 17359</td>\n",
        "    </tr>\n",
        "    <tr>\n",
        "      <td><strong>1</strong></td>\n",
        "      <td> 1</td>\n",
        "      <td> 251</td>\n",
        "      <td> 17108</td>\n",
        "    </tr>\n",
        "    <tr>\n",
        "      <td><strong>2</strong></td>\n",
        "      <td> 2</td>\n",
        "      <td> 374</td>\n",
        "      <td> 16734</td>\n",
        "    </tr>\n",
        "    <tr>\n",
        "      <td><strong>3</strong></td>\n",
        "      <td> 3</td>\n",
        "      <td> 536</td>\n",
        "      <td> 16198</td>\n",
        "    </tr>\n",
        "  </tbody>\n",
        "</table>\n",
        "</div>"
       ],
       "output_type": "pyout",
       "prompt_number": 185,
       "text": [
        "   Delta  Count  Residue\n",
        "0      0    281    17359\n",
        "1      1    251    17108\n",
        "2      2    374    16734\n",
        "3      3    536    16198"
       ]
      }
     ],
     "prompt_number": 185
    },
    {
     "cell_type": "code",
     "collapsed": false,
     "input": [
      "#df1.to_excel('/home/lepinskiy.s.v/python/parser_mmgp/Residue.xlsx', index=False)"
     ],
     "language": "python",
     "metadata": {},
     "outputs": [],
     "prompt_number": 206
    },
    {
     "cell_type": "code",
     "collapsed": false,
     "input": [
      "# \u0413\u0440\u0430\u0444\u0438\u043a \u043e\u0441\u0442\u0430\u0432\u0448\u0438\u0445\u0441\u044f \u0445\u0430\u0439\u043f\u043e\u0432\n",
      "days = 365\n",
      "plt.plot(df1['Delta'][:days], df1['Residue'][:days], linewidth=2.0)\n",
      "plt.title(u'\u0413\u0440\u0430\u0444\u0438\u043a \u043e\u0441\u0442\u0430\u0432\u0448\u0438\u0445\u0441\u044f \u0445\u0430\u0439\u043f\u043e\u0432')\n",
      "plt.xlabel(u'\u0414\u043d\u0438')\n",
      "plt.ylabel(u'\u0425\u0430\u0439\u043f\u043e\u0432 \u043e\u0441\u0442\u0430\u043b\u043e\u0441\u044c')\n",
      "plt.grid(True)\n",
      "#plt.axis([0, 5, 0, 20])\n",
      "plt.show()"
     ],
     "language": "python",
     "metadata": {},
     "outputs": [
      {
       "output_type": "display_data",
       "png": "[encoded data removed]"
      }
     ],
     "prompt_number": 242
    },
    {
     "cell_type": "code",
     "collapsed": false,
     "input": [
      "# \u0421\u0435\u0437\u043e\u043d\u043d\u0430\u044f \u0441\u0442\u0430\u0442\u0438\u0441\u0442\u0438\u043a\u0430 \u0437\u0430\u043a\u0440\u044b\u0442\u0438\u044f \u0445\u0430\u0439\u043f\u043e\u0432 (\u0432 \u043a\u0430\u043a\u043e\u0439 \u043c\u0435\u0441\u044f\u0446 \u0431\u043e\u043b\u044c\u0448\u0435 \u0432\u0441\u0435\u0433\u043e \u0438 \u043c\u0435\u043d\u044c\u0448\u0435 \u0432\u0441\u0435\u0433\u043e \u0437\u0430\u043a\u0440\u044b\u0432\u0430\u044e\u0442\u0441\u044f \u0438 \u043e\u0442\u043a\u0440\u044b\u0432\u0430\u044e\u0442\u0441\u044f)\n",
      "# \u0414\u043e\u0431\u0430\u0432\u043b\u044f\u0435\u043c \u0441\u0442\u043e\u043b\u0431\u0446\u044b Month \u0432 \u0442\u0430\u0431\u043b\u0438\u0446\u0443 df\n",
      "df['Month_Start'] = 0\n",
      "df['Month_End'] = 0"
     ],
     "language": "python",
     "metadata": {},
     "outputs": [],
     "prompt_number": 253
    },
    {
     "cell_type": "code",
     "collapsed": false,
     "input": [
      "df[:3]"
     ],
     "language": "python",
     "metadata": {},
     "outputs": [
      {
       "html": [
        "<div style=\"max-height:1000px;max-width:1500px;overflow:auto;\">\n",
        "<table border=\"1\">\n",
        "  <thead>\n",
        "    <tr>\n",
        "      <th></th>\n",
        "      <th>Names</th>\n",
        "      <th>Author</th>\n",
        "      <th>Start</th>\n",
        "      <th>End</th>\n",
        "      <th>Answer</th>\n",
        "      <th>Review</th>\n",
        "      <th>Delta</th>\n",
        "      <th>Month_Start</th>\n",
        "      <th>Month_End</th>\n",
        "    </tr>\n",
        "  </thead>\n",
        "  <tbody>\n",
        "    <tr>\n",
        "      <td><strong>0</strong></td>\n",
        "      <td>                randomily.com - Randomily</td>\n",
        "      <td>         DaTre</td>\n",
        "      <td> 30.11.2014</td>\n",
        "      <td> 24.12.2014</td>\n",
        "      <td> 450</td>\n",
        "      <td> 19737</td>\n",
        "      <td> 24</td>\n",
        "      <td> 0</td>\n",
        "      <td> 0</td>\n",
        "    </tr>\n",
        "    <tr>\n",
        "      <td><strong>1</strong></td>\n",
        "      <td>              Medium-pro - medium-pro.com</td>\n",
        "      <td> Angel-monitor</td>\n",
        "      <td> 29.11.2014</td>\n",
        "      <td> 24.12.2014</td>\n",
        "      <td> 142</td>\n",
        "      <td>  6494</td>\n",
        "      <td> 25</td>\n",
        "      <td> 0</td>\n",
        "      <td> 0</td>\n",
        "    </tr>\n",
        "    <tr>\n",
        "      <td><strong>2</strong></td>\n",
        "      <td> Top Forex Investment Company - Topfx.biz</td>\n",
        "      <td>       Honestt</td>\n",
        "      <td> 09.12.2014</td>\n",
        "      <td> 24.12.2014</td>\n",
        "      <td> 402</td>\n",
        "      <td> 12976</td>\n",
        "      <td> 15</td>\n",
        "      <td> 0</td>\n",
        "      <td> 0</td>\n",
        "    </tr>\n",
        "  </tbody>\n",
        "</table>\n",
        "</div>"
       ],
       "output_type": "pyout",
       "prompt_number": 254,
       "text": [
        "                                      Names         Author       Start         End  Answer  Review  Delta  Month_Start  Month_End\n",
        "0                 randomily.com - Randomily          DaTre  30.11.2014  24.12.2014     450   19737     24            0          0\n",
        "1               Medium-pro - medium-pro.com  Angel-monitor  29.11.2014  24.12.2014     142    6494     25            0          0\n",
        "2  Top Forex Investment Company - Topfx.biz        Honestt  09.12.2014  24.12.2014     402   12976     15            0          0"
       ]
      }
     ],
     "prompt_number": 254
    },
    {
     "cell_type": "code",
     "collapsed": false,
     "input": [],
     "language": "python",
     "metadata": {},
     "outputs": []
    }
   ],
   "metadata": {}
  }
 ]
}
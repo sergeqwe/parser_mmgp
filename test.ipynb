{
 "metadata": {
  "name": ""
 },
 "nbformat": 3,
 "nbformat_minor": 0,
 "worksheets": [
  {
   "cells": [
    {
     "cell_type": "code",
     "collapsed": false,
     "input": [
      "import pandas as pd\n",
      "import matplotlib.pyplot as plt\n",
      "import datetime"
     ],
     "language": "python",
     "metadata": {},
     "outputs": [
      {
       "output_type": "stream",
       "stream": "stdout",
       "text": [
        "\u0412\u0441\u0435\u0433\u043e \u0441\u0442\u0430\u0440\u043d\u0438\u0446:  1179\n",
        "\u0421\u0442\u0440\u0430\u043d\u0438\u0446\u0430 1 \u0438\u0437 1179\n",
        "\u041d\u0430 \u0441\u0442\u0430\u043d\u0438\u0446\u0435 \u0445\u0430\u0439\u043f\u043e\u0432:  15\n",
        "\u0421\u0442\u0440\u0430\u043d\u0438\u0446\u0430"
       ]
      },
      {
       "output_type": "stream",
       "stream": "stdout",
       "text": [
        " 2 \u0438\u0437 1179\n",
        "\u041d\u0430 \u0441\u0442\u0430\u043d\u0438\u0446\u0435 \u0445\u0430\u0439\u043f\u043e\u0432:  15\n",
        "\u0421\u0442\u0440\u0430\u043d\u0438\u0446\u0430"
       ]
      },
      {
       "output_type": "stream",
       "stream": "stdout",
       "text": [
        " 3 \u0438\u0437 1179\n",
        "\u041d\u0430 \u0441\u0442\u0430\u043d\u0438\u0446\u0435 \u0445\u0430\u0439\u043f\u043e\u0432:  15\n",
        "\u0421\u0442\u0440\u0430\u043d\u0438\u0446\u0430"
       ]
      },
      {
       "output_type": "stream",
       "stream": "stdout",
       "text": [
        " 4 \u0438\u0437 1179\n",
        "\u041d\u0430 \u0441\u0442\u0430\u043d\u0438\u0446\u0435 \u0445\u0430\u0439\u043f\u043e\u0432:  15\n",
        "\u0421\u0442\u0440\u0430\u043d\u0438\u0446\u0430"
       ]
      },
      {
       "output_type": "stream",
       "stream": "stdout",
       "text": [
        " 5 \u0438\u0437 1179\n",
        "\u041d\u0430 \u0441\u0442\u0430\u043d\u0438\u0446\u0435 \u0445\u0430\u0439\u043f\u043e\u0432:  15\n",
        "\u0421\u0442\u0440\u0430\u043d\u0438\u0446\u0430"
       ]
      },
      {
       "output_type": "stream",
       "stream": "stdout",
       "text": [
        " 6 \u0438\u0437 1179\n",
        "\u041d\u0430 \u0441\u0442\u0430\u043d\u0438\u0446\u0435 \u0445\u0430\u0439\u043f\u043e\u0432:  15\n",
        "\u0421\u0442\u0440\u0430\u043d\u0438\u0446\u0430"
       ]
      },
      {
       "output_type": "stream",
       "stream": "stdout",
       "text": [
        " 7 \u0438\u0437 1179\n",
        "\u041d\u0430 \u0441\u0442\u0430\u043d\u0438\u0446\u0435 \u0445\u0430\u0439\u043f\u043e\u0432:  15\n",
        "\u0421\u0442\u0440\u0430\u043d\u0438\u0446\u0430"
       ]
      },
      {
       "output_type": "stream",
       "stream": "stdout",
       "text": [
        " 8 \u0438\u0437 1179\n",
        "\u041d\u0430 \u0441\u0442\u0430\u043d\u0438\u0446\u0435 \u0445\u0430\u0439\u043f\u043e\u0432:  15\n",
        "\u0421\u0442\u0440\u0430\u043d\u0438\u0446\u0430"
       ]
      },
      {
       "output_type": "stream",
       "stream": "stdout",
       "text": [
        " 9 \u0438\u0437 1179\n",
        "\u041d\u0430 \u0441\u0442\u0430\u043d\u0438\u0446\u0435 \u0445\u0430\u0439\u043f\u043e\u0432:  15\n",
        "\u0421\u0442\u0440\u0430\u043d\u0438\u0446\u0430"
       ]
      },
      {
       "output_type": "stream",
       "stream": "stdout",
       "text": [
        " 10 \u0438\u0437 1179\n",
        "\u041d\u0430 \u0441\u0442\u0430\u043d\u0438\u0446\u0435 \u0445\u0430\u0439\u043f\u043e\u0432:  15\n",
        "\u0421\u0442\u0440\u0430\u043d\u0438\u0446\u0430"
       ]
      },
      {
       "output_type": "stream",
       "stream": "stdout",
       "text": [
        " 11 \u0438\u0437 1179\n",
        "\u041d\u0430 \u0441\u0442\u0430\u043d\u0438\u0446\u0435 \u0445\u0430\u0439\u043f\u043e\u0432:  15\n",
        "\u0421\u0442\u0440\u0430\u043d\u0438\u0446\u0430"
       ]
      },
      {
       "output_type": "stream",
       "stream": "stdout",
       "text": [
        " 12 \u0438\u0437 1179\n",
        "\u041d\u0430 \u0441\u0442\u0430\u043d\u0438\u0446\u0435 \u0445\u0430\u0439\u043f\u043e\u0432:  15\n",
        "\u0421\u0442\u0440\u0430\u043d\u0438\u0446\u0430"
       ]
      },
      {
       "output_type": "stream",
       "stream": "stdout",
       "text": [
        " 13 \u0438\u0437 1179\n",
        "\u041d\u0430 \u0441\u0442\u0430\u043d\u0438\u0446\u0435 \u0445\u0430\u0439\u043f\u043e\u0432:  15\n",
        "\u0421\u0442\u0440\u0430\u043d\u0438\u0446\u0430"
       ]
      },
      {
       "output_type": "stream",
       "stream": "stdout",
       "text": [
        " 14 \u0438\u0437 1179\n",
        "\u041d\u0430 \u0441\u0442\u0430\u043d\u0438\u0446\u0435 \u0445\u0430\u0439\u043f\u043e\u0432:  15\n",
        "\u0421\u0442\u0440\u0430\u043d\u0438\u0446\u0430"
       ]
      },
      {
       "output_type": "stream",
       "stream": "stdout",
       "text": [
        " 15 \u0438\u0437 1179\n",
        "\u041d\u0430 \u0441\u0442\u0430\u043d\u0438\u0446\u0435 \u0445\u0430\u0439\u043f\u043e\u0432:  15\n",
        "\u0421\u0442\u0440\u0430\u043d\u0438\u0446\u0430"
       ]
      },
      {
       "output_type": "stream",
       "stream": "stdout",
       "text": [
        " 16 \u0438\u0437 1179\n",
        "\u041d\u0430 \u0441\u0442\u0430\u043d\u0438\u0446\u0435 \u0445\u0430\u0439\u043f\u043e\u0432:  15\n",
        "\u0421\u0442\u0440\u0430\u043d\u0438\u0446\u0430"
       ]
      },
      {
       "output_type": "stream",
       "stream": "stdout",
       "text": [
        " 17 \u0438\u0437 1179\n",
        "\u041d\u0430 \u0441\u0442\u0430\u043d\u0438\u0446\u0435 \u0445\u0430\u0439\u043f\u043e\u0432:  15\n",
        "\u0421\u0442\u0440\u0430\u043d\u0438\u0446\u0430"
       ]
      },
      {
       "output_type": "stream",
       "stream": "stdout",
       "text": [
        " 18 \u0438\u0437 1179\n",
        "\u041d\u0430 \u0441\u0442\u0430\u043d\u0438\u0446\u0435 \u0445\u0430\u0439\u043f\u043e\u0432:  15\n",
        "\u0421\u0442\u0440\u0430\u043d\u0438\u0446\u0430"
       ]
      },
      {
       "output_type": "stream",
       "stream": "stdout",
       "text": [
        " 19 \u0438\u0437 1179\n",
        "\u041d\u0430 \u0441\u0442\u0430\u043d\u0438\u0446\u0435 \u0445\u0430\u0439\u043f\u043e\u0432:  15\n",
        "\u0421\u0442\u0440\u0430\u043d\u0438\u0446\u0430"
       ]
      },
      {
       "output_type": "stream",
       "stream": "stdout",
       "text": [
        " 20 \u0438\u0437 1179\n",
        "\u041d\u0430 \u0441\u0442\u0430\u043d\u0438\u0446\u0435 \u0445\u0430\u0439\u043f\u043e\u0432:  15\n",
        "\u0421\u0442\u0440\u0430\u043d\u0438\u0446\u0430"
       ]
      },
      {
       "output_type": "stream",
       "stream": "stdout",
       "text": [
        " 21 \u0438\u0437 1179\n",
        "\u041d\u0430 \u0441\u0442\u0430\u043d\u0438\u0446\u0435 \u0445\u0430\u0439\u043f\u043e\u0432:  15\n",
        "\u0421\u0442\u0440\u0430\u043d\u0438\u0446\u0430"
       ]
      },
      {
       "output_type": "stream",
       "stream": "stdout",
       "text": [
        " 22 \u0438\u0437 1179\n",
        "\u041d\u0430 \u0441\u0442\u0430\u043d\u0438\u0446\u0435 \u0445\u0430\u0439\u043f\u043e\u0432:  15\n",
        "\u0421\u0442\u0440\u0430\u043d\u0438\u0446\u0430"
       ]
      },
      {
       "output_type": "stream",
       "stream": "stdout",
       "text": [
        " 23 \u0438\u0437 1179\n",
        "\u041d\u0430 \u0441\u0442\u0430\u043d\u0438\u0446\u0435 \u0445\u0430\u0439\u043f\u043e\u0432:  15\n",
        "\u0421\u0442\u0440\u0430\u043d\u0438\u0446\u0430"
       ]
      },
      {
       "output_type": "stream",
       "stream": "stdout",
       "text": [
        " 24 \u0438\u0437 1179\n",
        "\u041d\u0430 \u0441\u0442\u0430\u043d\u0438\u0446\u0435 \u0445\u0430\u0439\u043f\u043e\u0432:  15\n",
        "\u0421\u0442\u0440\u0430\u043d\u0438\u0446\u0430"
       ]
      },
      {
       "output_type": "stream",
       "stream": "stdout",
       "text": [
        " 25 \u0438\u0437 1179\n",
        "\u041d\u0430 \u0441\u0442\u0430\u043d\u0438\u0446\u0435 \u0445\u0430\u0439\u043f\u043e\u0432:  15\n",
        "\u0421\u0442\u0440\u0430\u043d\u0438\u0446\u0430"
       ]
      },
      {
       "output_type": "stream",
       "stream": "stdout",
       "text": [
        " 26 \u0438\u0437 1179\n",
        "\u041d\u0430 \u0441\u0442\u0430\u043d\u0438\u0446\u0435 \u0445\u0430\u0439\u043f\u043e\u0432:  15\n",
        "\u0421\u0442\u0440\u0430\u043d\u0438\u0446\u0430"
       ]
      },
      {
       "output_type": "stream",
       "stream": "stdout",
       "text": [
        " 27 \u0438\u0437 1179\n",
        "\u041d\u0430 \u0441\u0442\u0430\u043d\u0438\u0446\u0435 \u0445\u0430\u0439\u043f\u043e\u0432:  15\n",
        "\u0421\u0442\u0440\u0430\u043d\u0438\u0446\u0430"
       ]
      },
      {
       "output_type": "stream",
       "stream": "stdout",
       "text": [
        " 28 \u0438\u0437 1179\n",
        "\u041d\u0430 \u0441\u0442\u0430\u043d\u0438\u0446\u0435 \u0445\u0430\u0439\u043f\u043e\u0432:  15\n",
        "\u0421\u0442\u0440\u0430\u043d\u0438\u0446\u0430"
       ]
      },
      {
       "output_type": "stream",
       "stream": "stdout",
       "text": [
        " 29 \u0438\u0437 1179\n",
        "\u041d\u0430 \u0441\u0442\u0430\u043d\u0438\u0446\u0435 \u0445\u0430\u0439\u043f\u043e\u0432:  15\n",
        "\u0421\u0442\u0440\u0430\u043d\u0438\u0446\u0430"
       ]
      },
      {
       "output_type": "stream",
       "stream": "stdout",
       "text": [
        " 30 \u0438\u0437 1179\n",
        "\u041d\u0430 \u0441\u0442\u0430\u043d\u0438\u0446\u0435 \u0445\u0430\u0439\u043f\u043e\u0432:  15\n",
        "\u0421\u0442\u0440\u0430\u043d\u0438\u0446\u0430"
       ]
      },
      {
       "output_type": "stream",
       "stream": "stdout",
       "text": [
        " 31 \u0438\u0437 1179\n",
        "\u041d\u0430 \u0441\u0442\u0430\u043d\u0438\u0446\u0435 \u0445\u0430\u0439\u043f\u043e\u0432:  15\n",
        "\u0421\u0442\u0440\u0430\u043d\u0438\u0446\u0430"
       ]
      },
      {
       "output_type": "stream",
       "stream": "stdout",
       "text": [
        " 32 \u0438\u0437 1179\n",
        "\u041d\u0430 \u0441\u0442\u0430\u043d\u0438\u0446\u0435 \u0445\u0430\u0439\u043f\u043e\u0432:  15\n",
        "\u0421\u0442\u0440\u0430\u043d\u0438\u0446\u0430"
       ]
      },
      {
       "output_type": "stream",
       "stream": "stdout",
       "text": [
        " 33 \u0438\u0437 1179\n",
        "\u041d\u0430 \u0441\u0442\u0430\u043d\u0438\u0446\u0435 \u0445\u0430\u0439\u043f\u043e\u0432:  15\n",
        "\u0421\u0442\u0440\u0430\u043d\u0438\u0446\u0430"
       ]
      },
      {
       "output_type": "stream",
       "stream": "stdout",
       "text": [
        " 34 \u0438\u0437 1179\n",
        "\u041d\u0430 \u0441\u0442\u0430\u043d\u0438\u0446\u0435 \u0445\u0430\u0439\u043f\u043e\u0432:  15\n",
        "\u0421\u0442\u0440\u0430\u043d\u0438\u0446\u0430"
       ]
      },
      {
       "output_type": "stream",
       "stream": "stdout",
       "text": [
        " 35 \u0438\u0437 1179\n",
        "\u041d\u0430 \u0441\u0442\u0430\u043d\u0438\u0446\u0435 \u0445\u0430\u0439\u043f\u043e\u0432:  15\n",
        "\u0421\u0442\u0440\u0430\u043d\u0438\u0446\u0430"
       ]
      },
      {
       "output_type": "stream",
       "stream": "stdout",
       "text": [
        " 36 \u0438\u0437 1179\n",
        "\u041d\u0430 \u0441\u0442\u0430\u043d\u0438\u0446\u0435 \u0445\u0430\u0439\u043f\u043e\u0432:  15\n",
        "\u0421\u0442\u0440\u0430\u043d\u0438\u0446\u0430"
       ]
      },
      {
       "output_type": "stream",
       "stream": "stdout",
       "text": [
        " 37 \u0438\u0437 1179\n",
        "\u041d\u0430 \u0441\u0442\u0430\u043d\u0438\u0446\u0435 \u0445\u0430\u0439\u043f\u043e\u0432:  15\n",
        "\u0421\u0442\u0440\u0430\u043d\u0438\u0446\u0430"
       ]
      },
      {
       "output_type": "stream",
       "stream": "stdout",
       "text": [
        " 38 \u0438\u0437 1179\n",
        "\u041d\u0430 \u0441\u0442\u0430\u043d\u0438\u0446\u0435 \u0445\u0430\u0439\u043f\u043e\u0432:  15\n",
        "\u0421\u0442\u0440\u0430\u043d\u0438\u0446\u0430"
       ]
      },
      {
       "output_type": "stream",
       "stream": "stdout",
       "text": [
        " 39 \u0438\u0437 1179\n",
        "\u041d\u0430 \u0441\u0442\u0430\u043d\u0438\u0446\u0435 \u0445\u0430\u0439\u043f\u043e\u0432:  15\n",
        "\u0421\u0442\u0440\u0430\u043d\u0438\u0446\u0430"
       ]
      },
      {
       "output_type": "stream",
       "stream": "stdout",
       "text": [
        " 40 \u0438\u0437 1179\n",
        "\u041d\u0430 \u0441\u0442\u0430\u043d\u0438\u0446\u0435 \u0445\u0430\u0439\u043f\u043e\u0432:  15\n",
        "\u0421\u0442\u0440\u0430\u043d\u0438\u0446\u0430"
       ]
      },
      {
       "output_type": "stream",
       "stream": "stdout",
       "text": [
        " 41 \u0438\u0437 1179\n",
        "\u041d\u0430 \u0441\u0442\u0430\u043d\u0438\u0446\u0435 \u0445\u0430\u0439\u043f\u043e\u0432:  15\n",
        "\u0421\u0442\u0440\u0430\u043d\u0438\u0446\u0430"
       ]
      },
      {
       "output_type": "stream",
       "stream": "stdout",
       "text": [
        " 42 \u0438\u0437 1179\n",
        "\u041d\u0430 \u0441\u0442\u0430\u043d\u0438\u0446\u0435 \u0445\u0430\u0439\u043f\u043e\u0432:  15\n",
        "\u0421\u0442\u0440\u0430\u043d\u0438\u0446\u0430"
       ]
      }
     ],
     "prompt_number": "*"
    },
    {
     "cell_type": "code",
     "collapsed": false,
     "input": [
      "%pylab inline"
     ],
     "language": "python",
     "metadata": {},
     "outputs": [],
     "prompt_number": "*"
    },
    {
     "cell_type": "code",
     "collapsed": false,
     "input": [
      "Location = '/home/qwe/\u0414\u043e\u043a\u0443\u043c\u0435\u043d\u0442\u044b/python/result.txt'\n",
      "df = pd.read_csv(Location, names=['Names', 'Author', 'Start', 'End', 'Answer', 'Review'], sep=';;')"
     ],
     "language": "python",
     "metadata": {},
     "outputs": [],
     "prompt_number": "*"
    },
    {
     "cell_type": "code",
     "collapsed": false,
     "input": [
      "df[0:3]"
     ],
     "language": "python",
     "metadata": {},
     "outputs": [],
     "prompt_number": "*"
    },
    {
     "cell_type": "code",
     "collapsed": false,
     "input": [
      "# \u0414\u043e\u0431\u0430\u0432\u043b\u044f\u0435\u043c \u0447\u0435\u0440\u0435\u0437 pandas \u043a\u043e\u043b\u043e\u043d\u043a\u0443 Delta\n",
      "df['Delta'] = 0"
     ],
     "language": "python",
     "metadata": {},
     "outputs": [],
     "prompt_number": "*"
    },
    {
     "cell_type": "code",
     "collapsed": false,
     "input": [
      "df[0:3]"
     ],
     "language": "python",
     "metadata": {},
     "outputs": [],
     "prompt_number": "*"
    },
    {
     "cell_type": "code",
     "collapsed": false,
     "input": [
      "# \u041d\u0430\u0445\u043e\u0434\u0438\u043c \u0440\u0430\u0437\u043d\u0438\u0446\u0443 \u043c\u0435\u0436\u0434\u0443 \u0434\u0430\u0442\u043e\u0439 \u0437\u0430\u043a\u0440\u044b\u0442\u0438\u044f \u0445\u0430\u0439\u043f\u044b \u0438 \u0434\u0430\u0442\u043e\u0439 \u043e\u0442\u043a\u0440\u044b\u0442\u0438\u044f (\u0441\u043a\u043e\u043b\u044c\u043a\u043e \u043f\u0440\u043e\u0441\u0443\u0449\u0435\u0441\u0442\u0432\u043e\u0432\u0430\u043b \u0445\u0430\u0439\u043f)\n",
      "for i in range(17640):\n",
      "\tstart = df.Start[i]\n",
      "\tstart = datetime.datetime.strptime(start, '%d.%m.%Y')\n",
      "\n",
      "\tend = df.End[i]\n",
      "\tend = datetime.datetime.strptime(end, '%d.%m.%Y')\n",
      "\n",
      "\tdelta = end-start\n",
      "\tdelta = delta.days\n",
      "\t\n",
      "\tdf['Delta'][i] = delta"
     ],
     "language": "python",
     "metadata": {},
     "outputs": [],
     "prompt_number": "*"
    },
    {
     "cell_type": "code",
     "collapsed": false,
     "input": [
      "df[0:3]"
     ],
     "language": "python",
     "metadata": {},
     "outputs": [],
     "prompt_number": "*"
    },
    {
     "cell_type": "code",
     "collapsed": false,
     "input": [
      "# \u0423\u0434\u0430\u043b\u044f\u0435\u043c \u043b\u0438\u0448\u043d\u0438\u0435 \u0441\u0442\u043e\u043b\u0431\u0446\u044b\n",
      "\n",
      "del df['Names']\n",
      "del df['Author']\n",
      "del df['Start']\n",
      "del df['End']\n",
      "del df['Answer']\n",
      "del df['Review']"
     ],
     "language": "python",
     "metadata": {},
     "outputs": [],
     "prompt_number": "*"
    },
    {
     "cell_type": "code",
     "collapsed": false,
     "input": [
      "df[0:3]"
     ],
     "language": "python",
     "metadata": {},
     "outputs": [],
     "prompt_number": "*"
    },
    {
     "cell_type": "code",
     "collapsed": false,
     "input": [
      "# \u0414\u043e\u0431\u0430\u0432\u043b\u044f\u0435\u043c \u043f\u043e\u043b\u0435 count. \u041f\u043e \u043d\u0435\u043c\u0443 \u0431\u0443\u0434\u0435\u043c \u0441\u0447\u0438\u0442\u0430\u0442\u044c \u043a\u043e\u043b-\u0432\u043e \u043f\u043e\u0432\u0442\u043e\u0440\u044f\u044e\u0449\u0438\u0445\u0441\u044f \u0437\u043d\u0430\u0447\u0435\u043d\u0438\u0439\n",
      "df['Count'] = 1"
     ],
     "language": "python",
     "metadata": {},
     "outputs": [],
     "prompt_number": "*"
    },
    {
     "cell_type": "code",
     "collapsed": false,
     "input": [
      "df[0:3]"
     ],
     "language": "python",
     "metadata": {},
     "outputs": [],
     "prompt_number": "*"
    },
    {
     "cell_type": "code",
     "collapsed": false,
     "input": [
      "# Create a groupby object\n",
      "name = df.groupby('Delta')\n",
      "\n",
      "# Apply the sum function to the groupby object\n",
      "df = name.sum()"
     ],
     "language": "python",
     "metadata": {},
     "outputs": [],
     "prompt_number": "*"
    },
    {
     "cell_type": "code",
     "collapsed": false,
     "input": [
      "df[:3]\n",
      "print '\u0421\u0442\u043e\u043b\u0431\u0446\u043e\u0432 \u0432 \u0434\u0438\u0430\u0433\u0440\u0430\u043c\u043c\u0435: ', len(df)"
     ],
     "language": "python",
     "metadata": {},
     "outputs": [],
     "prompt_number": "*"
    },
    {
     "cell_type": "code",
     "collapsed": false,
     "input": [
      "df[:365].plot(kind='bar', figsize=(70, 10))\n",
      "#df[100:200].plot(kind='bar', figsize=(20, 5))"
     ],
     "language": "python",
     "metadata": {},
     "outputs": [],
     "prompt_number": "*"
    },
    {
     "cell_type": "code",
     "collapsed": false,
     "input": [],
     "language": "python",
     "metadata": {},
     "outputs": [],
     "prompt_number": "*"
    }
   ],
   "metadata": {}
  }
 ]
}